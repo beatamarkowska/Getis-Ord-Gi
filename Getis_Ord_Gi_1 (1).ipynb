{
 "cells": [
  {
   "cell_type": "markdown",
   "id": "d5ec3d9f-3c7e-4ecb-8ff4-eb0824e2098a",
   "metadata": {},
   "source": [
    "Getis Ord Gi* Example¶\n",
    "Getis and Ord's Gi and Gi* statistics are popular statistical approaches for finding statistically significant hot and cold spots across space. It compares the value of some numerical variable of a spatial record with those of the neighboring records. The nature of these neighborhoods is controlled by the user.\n",
    "\n",
    "Use the Gi* statistic on the Overture places data to identify regions of high and lower \"density\"."
   ]
  },
  {
   "cell_type": "code",
   "execution_count": 1,
   "id": "d1364f88-cd3e-432d-b3da-13c52bd16937",
   "metadata": {
    "execution": {
     "iopub.execute_input": "2025-03-24T14:49:32.361060Z",
     "iopub.status.busy": "2025-03-24T14:49:32.360886Z",
     "iopub.status.idle": "2025-03-24T14:49:32.365235Z",
     "shell.execute_reply": "2025-03-24T14:49:32.364754Z",
     "shell.execute_reply.started": "2025-03-24T14:49:32.361044Z"
    }
   },
   "outputs": [],
   "source": [
    "region = \"POLYGON ((-122.380829 47.870302, -122.048492 47.759637, -121.982574 47.531111, -122.408295 47.50978, -122.44812 47.668162, -122.380829 47.870302))\"\n",
    "neighbor_search_radius_degrees = .01\n",
    "h3_zoom_level = 8"
   ]
  },
  {
   "cell_type": "markdown",
   "id": "11ad3fed-2e12-4e92-b275-9d889969e5b3",
   "metadata": {},
   "source": [
    "Specifies the search radius for the neighborhood area in geographic degrees. In this case, it is 0.01 degrees, which corresponds to about 1.1 km on the Earth's surface (approximately).\n",
    "\n",
    "This radius is used in neighborhood search algorithms in the context of the H3 grid to find cells (hexagons) near a specified point."
   ]
  },
  {
   "cell_type": "markdown",
   "id": "03096593-c99d-44f0-a4fc-63550b6fdd1e",
   "metadata": {},
   "source": [
    "H3 is a system for dividing the Earth's surface into hexagonal cells, and h3_zoom_level determines the accuracy of these cells. The H3 zoom level in this case is 8, which means that the hexagonal cells will be relatively small (about 150 meters on a side).\n",
    "\n",
    "The higher the zoom level, the smaller the H3 cells, allowing for more detailed mapping."
   ]
  },
  {
   "cell_type": "markdown",
   "id": "6f715842-dc1c-4ab4-95a8-d0a39fce4bc2",
   "metadata": {},
   "source": [
    "region: Specifies a geographic area in the form of a polygon that will be used in geolocation algorithms.\n",
    "\n",
    "neighbor_search_radius_degrees: Sets the radius in which neighboring cells will be searched for in degrees.\n",
    "\n",
    "h3_zoom_level: Specifies the level of detail for dividing the Earth's surface into hexagonal cells in the H3 system."
   ]
  },
  {
   "cell_type": "code",
   "execution_count": 3,
   "id": "a6c2b8a5-33a8-4416-9eea-698706595e7f",
   "metadata": {
    "execution": {
     "iopub.execute_input": "2025-03-24T14:51:10.463222Z",
     "iopub.status.busy": "2025-03-24T14:51:10.463003Z",
     "iopub.status.idle": "2025-03-24T14:51:34.653503Z",
     "shell.execute_reply": "2025-03-24T14:51:34.652710Z",
     "shell.execute_reply.started": "2025-03-24T14:51:10.463206Z"
    }
   },
   "outputs": [
    {
     "name": "stderr",
     "output_type": "stream",
     "text": [
      "Setting default log level to \"WARN\".\n",
      "To adjust logging level use sc.setLogLevel(newLevel). For SparkR, use setLogLevel(newLevel).\n",
      "                                                                                \r"
     ]
    }
   ],
   "source": [
    "from sedona.spark import *\n",
    "\n",
    "config = SedonaContext.builder().getOrCreate()\n",
    "sedona = SedonaContext.create(config)"
   ]
  },
  {
   "cell_type": "markdown",
   "id": "c3c4abb8-47d4-44f3-9928-a971aa85f2ad",
   "metadata": {},
   "source": [
    "Filtering and Aggregation\n",
    "Assign an H3 cell to each record and filter down to only the region of interest. Aggregate the places data by the cell idenitier and find the number of places in each cell."
   ]
  },
  {
   "cell_type": "code",
   "execution_count": 19,
   "id": "0166fd43-e767-4832-87a9-620120920a7c",
   "metadata": {
    "execution": {
     "iopub.execute_input": "2025-03-24T15:19:11.421343Z",
     "iopub.status.busy": "2025-03-24T15:19:11.421083Z",
     "iopub.status.idle": "2025-03-24T15:19:13.124357Z",
     "shell.execute_reply": "2025-03-24T15:19:13.123947Z",
     "shell.execute_reply.started": "2025-03-24T15:19:11.421325Z"
    }
   },
   "outputs": [],
   "source": [
    "import pyspark.sql.functions as f\n",
    "places_df = (\n",
    "    sedona.table(\"wherobots_open_data.overture_2024_07_22.places_place\")\n",
    "        .select(f.col(\"geometry\"), f.col(\"categories\"))\n",
    "        .withColumn(\"h3Cell\", ST_H3CellIDs(f.col(\"geometry\"), h3_zoom_level, False)[0])\n",
    ")\n",
    "\n",
    "if region is not None:\n",
    "    places_df = places_df.filter(ST_Intersects(ST_GeomFromText(f.lit(region)), f.col(\"geometry\"))).repartition(100)\n"
   ]
  },
  {
   "cell_type": "markdown",
   "id": "1f541ce9-67a8-427c-9c0e-a528e9c3df48",
   "metadata": {},
   "source": [
    ".withColumn(\"h3Cell\", ST_H3CellIDs(f.col(\"geometry\"), h3_zoom_level, False)[0]) – creates a new column h3Cell that contains H3 cell IDs (spherical grid system) for geometry locations. The ST_H3CellIDs function converts geometry to H3 cell IDs at the specified zoom level h3_zoom_level. This function returns a list of IDs, and [0] means that we select the first item from this list."
   ]
  },
  {
   "cell_type": "markdown",
   "id": "a0f0e512-5d20-4cdb-ad9e-477b982aaeed",
   "metadata": {},
   "source": [
    ".repartition(100) – ponownie partycjonuje dane w 100 partycji, co może być przydatne, aby zoptymalizować operacje obliczeniowe na dużych zbiorach danych. Pomaga to w równomiernym rozdzieleniu danych na dostępne węzły w klastrze Spark."
   ]
  },
  {
   "cell_type": "code",
   "execution_count": 20,
   "id": "1e88c844-8b60-4d3d-8799-5972832a987e",
   "metadata": {
    "execution": {
     "iopub.execute_input": "2025-03-24T15:21:29.274595Z",
     "iopub.status.busy": "2025-03-24T15:21:29.274297Z",
     "iopub.status.idle": "2025-03-24T15:21:37.809199Z",
     "shell.execute_reply": "2025-03-24T15:21:37.808122Z",
     "shell.execute_reply.started": "2025-03-24T15:21:29.274578Z"
    }
   },
   "outputs": [
    {
     "name": "stdout",
     "output_type": "stream",
     "text": [
      "User Guide: https://docs.kepler.gl/docs/keplergl-jupyter\n"
     ]
    },
    {
     "name": "stderr",
     "output_type": "stream",
     "text": [
      "                                                                                \r"
     ]
    },
    {
     "data": {
      "application/vnd.jupyter.widget-view+json": {
       "model_id": "1c2c8b128826492fb5ce4fe1e15d92ba",
       "version_major": 2,
       "version_minor": 0
      },
      "text/plain": [
       "KeplerGl(data={'places': {'index': [0, 1, 2, 3, 4, 5, 6, 7, 8, 9, 10, 11, 12, 13, 14, 15, 16, 17, 18, 19, 20, …"
      ]
     },
     "execution_count": 20,
     "metadata": {},
     "output_type": "execute_result"
    }
   ],
   "source": [
    "SedonaKepler.create_map(places_df, \"places\")"
   ]
  },
  {
   "cell_type": "code",
   "execution_count": 22,
   "id": "1d690aa7-2742-4fd0-bfc0-3d5cd1f1c41e",
   "metadata": {
    "execution": {
     "iopub.execute_input": "2025-03-24T15:22:55.011149Z",
     "iopub.status.busy": "2025-03-24T15:22:55.010936Z",
     "iopub.status.idle": "2025-03-24T15:22:59.703285Z",
     "shell.execute_reply": "2025-03-24T15:22:59.702452Z",
     "shell.execute_reply.started": "2025-03-24T15:22:55.011134Z"
    }
   },
   "outputs": [
    {
     "name": "stderr",
     "output_type": "stream",
     "text": [
      "[Stage 10:>                                                         (0 + 1) / 1]\r"
     ]
    },
    {
     "name": "stdout",
     "output_type": "stream",
     "text": [
      "+--------------------+--------------------+------------------+\n",
      "|            geometry|          categories|            h3Cell|\n",
      "+--------------------+--------------------+------------------+\n",
      "|POINT (-122.32119...|{mexican_restaura...|613207891937067007|\n",
      "|POINT (-122.31716...|{acupuncture, [al...|613207891398098943|\n",
      "|POINT (-122.33204...|{business_law, [e...|613207891941261311|\n",
      "+--------------------+--------------------+------------------+\n",
      "only showing top 3 rows\n",
      "\n"
     ]
    },
    {
     "name": "stderr",
     "output_type": "stream",
     "text": [
      "                                                                                \r"
     ]
    }
   ],
   "source": [
    "places_df.show(3)"
   ]
  },
  {
   "cell_type": "markdown",
   "id": "718cd407-2779-4b34-99ad-ee7f12cea4ad",
   "metadata": {},
   "source": [
    "H3 identifiers are a type of spatial index that is used to represent spherical surfaces as cells on a hexagonal grid. H3 (Hexagonal Hierarchical Spatial Index) is a spatial indexing system developed by Uber that is used to map geographic data onto spherical space using hexagonal cells."
   ]
  },
  {
   "cell_type": "code",
   "execution_count": 25,
   "id": "1cfa74d8-56bb-42bd-9f17-13fb05f884f3",
   "metadata": {
    "execution": {
     "iopub.execute_input": "2025-03-24T15:38:11.419199Z",
     "iopub.status.busy": "2025-03-24T15:38:11.418955Z",
     "iopub.status.idle": "2025-03-24T15:38:11.454144Z",
     "shell.execute_reply": "2025-03-24T15:38:11.453590Z",
     "shell.execute_reply.started": "2025-03-24T15:38:11.419181Z"
    }
   },
   "outputs": [],
   "source": [
    "hexes_df = (\n",
    "    places_df\n",
    "        .groupBy(f.col(\"h3Cell\"))\n",
    "        .agg(f.count(\"*\").alias(\"num_places\")) # how many places in this cell\n",
    "        .withColumn(\"geometry\", ST_H3ToGeom(f.array(f.col(\"h3Cell\")))[0])\n",
    ")"
   ]
  },
  {
   "cell_type": "code",
   "execution_count": 27,
   "id": "06ae6cd9-62d7-46fd-8a2e-b244b2a947b0",
   "metadata": {
    "execution": {
     "iopub.execute_input": "2025-03-24T15:38:48.539331Z",
     "iopub.status.busy": "2025-03-24T15:38:48.538712Z",
     "iopub.status.idle": "2025-03-24T15:38:51.564679Z",
     "shell.execute_reply": "2025-03-24T15:38:51.564070Z",
     "shell.execute_reply.started": "2025-03-24T15:38:48.539303Z"
    }
   },
   "outputs": [
    {
     "name": "stderr",
     "output_type": "stream",
     "text": [
      "[Stage 15:====================================================>  (95 + 3) / 100]\r"
     ]
    },
    {
     "name": "stdout",
     "output_type": "stream",
     "text": [
      "+------------------+----------+--------------------+\n",
      "|            h3Cell|num_places|            geometry|\n",
      "+------------------+----------+--------------------+\n",
      "|613207897777635327|         8|POLYGON ((-122.10...|\n",
      "|613207894489300991|         9|POLYGON ((-122.25...|\n",
      "|613207893124055039|        12|POLYGON ((-122.39...|\n",
      "+------------------+----------+--------------------+\n",
      "only showing top 3 rows\n",
      "\n"
     ]
    },
    {
     "name": "stderr",
     "output_type": "stream",
     "text": [
      "                                                                                \r"
     ]
    }
   ],
   "source": [
    "hexes_df.show(3)"
   ]
  },
  {
   "cell_type": "markdown",
   "id": "5d3c82a6-fc2f-4ada-9496-4f56fc1e07be",
   "metadata": {},
   "source": [
    "This code performs the following operations on the data:\n",
    "\n",
    "Grouping data (groupBy(f.col(\"h3Cell\"))):\n",
    "\n",
    "We start by grouping the rows in places_df by the h3Cell column, which contains the H3 cell identifiers.\n",
    "\n",
    "Each row in places_df represents a place, and the h3Cell column indicates which H3 cell it belongs to.\n",
    "\n",
    "Aggregation (agg(f.count(\"*\").alias(\"num_places\"))):\n",
    "\n",
    "For each group (i.e. for each H3 cell), an aggregation is performed that counts how many rows (i.e. places) are in that H3 cell.\n",
    "\n",
    "f.count(\"*\") counts all the places in a given H3 cell.\n",
    "\n",
    "alias(\"num_places\") renames this new column to num_places, which means the number of places in a given H3 cell.\n",
    "\n",
    "Adding a column with geometry (withColumn(\"geometry\", ST_H3ToGeom(f.array(f.col(\"h3Cell\")))[0])):\n",
    "\n",
    "A new column geometry is added to hexes_df. This column contains the geometry corresponding to each H3 cell.\n",
    "\n",
    "The ST_H3ToGeom(f.array(f.col(\"h3Cell\"))) function converts H3 (h3Cell) IDs to their corresponding geometries.\n",
    "\n",
    "The f.array(f.col(\"h3Cell\")) function creates an array with the H3 ID, because the ST_H3ToGeom function expects an array.\n",
    "\n",
    "[0] means that from this array we select the first (and only) geometry for a given H3 cell. As a result, we have a geometry corresponding to each H3 cell, which is useful when we want to visualize these cells on a map.\n",
    "\n",
    "Summary of the action:\n",
    "Grouping data by H3 cells.\n",
    "\n",
    "Number of places in each H3 cell (num_places column).\n",
    "\n",
    "Creating a geometry for each H3 cell, represented in the geometry column.\n",
    "\n",
    "After this operation you get a DataFrame (hexes_df) that contains:\n",
    "\n",
    "The h3Cell column (H3 cell identifier),\n",
    "\n",
    "The num_places column (the number of places in this cell),\n",
    "\n",
    "The geometry column (the geometry corresponding to the H3 cell).\n",
    "\n",
    "This allows you to easily analyze how many places there are in a given H3 cell, and also use the H3 geometries for further spatial analysis or visualization."
   ]
  },
  {
   "cell_type": "code",
   "execution_count": 28,
   "id": "8f2dc6fc-f0f9-4094-b9c0-a0ffeb50e553",
   "metadata": {
    "execution": {
     "iopub.execute_input": "2025-03-24T15:39:44.690732Z",
     "iopub.status.busy": "2025-03-24T15:39:44.690451Z",
     "iopub.status.idle": "2025-03-24T15:39:48.158749Z",
     "shell.execute_reply": "2025-03-24T15:39:48.158348Z",
     "shell.execute_reply.started": "2025-03-24T15:39:44.690716Z"
    }
   },
   "outputs": [
    {
     "name": "stdout",
     "output_type": "stream",
     "text": [
      "User Guide: https://docs.kepler.gl/docs/keplergl-jupyter\n"
     ]
    },
    {
     "name": "stderr",
     "output_type": "stream",
     "text": [
      "                                                                                \r"
     ]
    },
    {
     "data": {
      "application/vnd.jupyter.widget-view+json": {
       "model_id": "9887780f0bbf4a989d417ea735f47a37",
       "version_major": 2,
       "version_minor": 0
      },
      "text/plain": [
       "KeplerGl(data={'hexes': {'index': [0, 1, 2, 3, 4, 5, 6, 7, 8, 9, 10, 11, 12, 13, 14, 15, 16, 17, 18, 19, 20, 2…"
      ]
     },
     "execution_count": 28,
     "metadata": {},
     "output_type": "execute_result"
    }
   ],
   "source": [
    "SedonaKepler.create_map(hexes_df, \"hexes\")"
   ]
  },
  {
   "cell_type": "markdown",
   "id": "d76b5a5e-ab27-4b80-ad55-3e11290d543f",
   "metadata": {},
   "source": [
    "Sanity Check Variable\n",
    "Make sure that have a good distribution of values in variable. Specifically ensuring that cells are not too small which would be indicated by the places counts all being very low. Generate deciles here to make sure that there is some good range of these values. An extreme negative example would be if these values were all zero and one."
   ]
  },
  {
   "cell_type": "code",
   "execution_count": 29,
   "id": "fa616601-69b3-43fc-9ee7-868357197cfc",
   "metadata": {
    "execution": {
     "iopub.execute_input": "2025-03-24T15:48:28.931787Z",
     "iopub.status.busy": "2025-03-24T15:48:28.931561Z",
     "iopub.status.idle": "2025-03-24T15:48:31.407266Z",
     "shell.execute_reply": "2025-03-24T15:48:31.406534Z",
     "shell.execute_reply.started": "2025-03-24T15:48:28.931768Z"
    }
   },
   "outputs": [
    {
     "name": "stderr",
     "output_type": "stream",
     "text": [
      "                                                                                \r"
     ]
    },
    {
     "data": {
      "text/plain": [
       "[1, 2, 3, 5, 8, 11, 18, 32, 63, 118, 2006]"
      ]
     },
     "execution_count": 29,
     "metadata": {},
     "output_type": "execute_result"
    }
   ],
   "source": [
    "hexes_df.select(f.percentile_approx(\"num_places\", [x / 10.0 for x in range(11)])).collect()[0][0]"
   ]
  },
  {
   "cell_type": "markdown",
   "id": "6d0d3994-4d0d-426c-b01a-d3a715fd6800",
   "metadata": {},
   "source": [
    "This means that:\n",
    "\n",
    "0% of the spaces have less than 1 space.\n",
    "\n",
    "10% of the H3 cells have less than 2 spaces.\n",
    "\n",
    "20% of the cells have less than 3 spaces, and so on, up to 100% of the cells that have less than 2006 spaces.\n",
    "Median: 8 means that half of the H3 cells contain 8 or fewer sites, and the other half contain more than 8 sites.\n",
    "\n",
    "In other words, the median represents the typical number of sites in the H3 cells in this dataset, since 50% of the cells have less than 8 sites, and 50% of the cells have more than 8 sites."
   ]
  },
  {
   "cell_type": "markdown",
   "id": "ee540524-de19-459e-920c-6ee53040ec00",
   "metadata": {},
   "source": [
    "Generate our Gi* statistic. \n",
    "Use the most typical parameters. The exception is the search radius which is always domain specific.\n",
    "\n",
    "The output here will show, among other things, a Z score and P value. A Z score shows how many standard deviations from the mean of the neighborhood the value is and the P score tells  the chance that value is from random variation rather than an actual phenomenon."
   ]
  },
  {
   "cell_type": "code",
   "execution_count": 30,
   "id": "517691ed-091b-4346-bd39-869b9d7d9219",
   "metadata": {
    "execution": {
     "iopub.execute_input": "2025-03-24T16:03:24.542462Z",
     "iopub.status.busy": "2025-03-24T16:03:24.541802Z",
     "iopub.status.idle": "2025-03-24T16:03:24.550374Z",
     "shell.execute_reply": "2025-03-24T16:03:24.550006Z",
     "shell.execute_reply.started": "2025-03-24T16:03:24.542438Z"
    }
   },
   "outputs": [],
   "source": [
    "from sedona.stats.hotspot_detection.getis_ord import g_local\n",
    "from sedona.stats.weighting import add_binary_distance_band_column"
   ]
  },
  {
   "cell_type": "code",
   "execution_count": 31,
   "id": "32859712-ff56-4f33-8557-fbe9682bc987",
   "metadata": {
    "execution": {
     "iopub.execute_input": "2025-03-24T16:04:21.603868Z",
     "iopub.status.busy": "2025-03-24T16:04:21.603621Z",
     "iopub.status.idle": "2025-03-24T16:04:25.189856Z",
     "shell.execute_reply": "2025-03-24T16:04:25.189125Z",
     "shell.execute_reply.started": "2025-03-24T16:04:21.603851Z"
    }
   },
   "outputs": [
    {
     "name": "stderr",
     "output_type": "stream",
     "text": [
      "                                                                                \r"
     ]
    }
   ],
   "source": [
    "gi_df = g_local(\n",
    "    add_binary_distance_band_column(\n",
    "        hexes_df,\n",
    "        neighbor_search_radius_degrees,\n",
    "        include_self=True,\n",
    "    ),\n",
    "    \"num_places\",\n",
    "    \"weights\",\n",
    "    star=True\n",
    ").cache()\n"
   ]
  },
  {
   "cell_type": "code",
   "execution_count": 33,
   "id": "6f5cb911-b26d-47a1-89ab-df5bda60728b",
   "metadata": {
    "execution": {
     "iopub.execute_input": "2025-03-24T16:04:42.370133Z",
     "iopub.status.busy": "2025-03-24T16:04:42.369887Z",
     "iopub.status.idle": "2025-03-24T16:04:54.109803Z",
     "shell.execute_reply": "2025-03-24T16:04:54.109177Z",
     "shell.execute_reply.started": "2025-03-24T16:04:42.370117Z"
    }
   },
   "outputs": [
    {
     "name": "stderr",
     "output_type": "stream",
     "text": [
      "[Stage 62:==================================================>   (188 + 3) / 200]\r"
     ]
    },
    {
     "name": "stdout",
     "output_type": "stream",
     "text": [
      "+------------------+----------+--------------------+--------------------+--------------------+--------------------+--------------------+-------------------+-------------------+\n",
      "|            h3Cell|num_places|            geometry|             weights|                   G|                  EG|                  VG|                  Z|                  P|\n",
      "+------------------+----------+--------------------+--------------------+--------------------+--------------------+--------------------+-------------------+-------------------+\n",
      "|613207893889515519|        12|POLYGON ((-122.10...|[{{61320789397549...|0.014833640637198718|0.013219284603421462|5.542296862370928E-5|0.21684750476435208|0.41416359460836905|\n",
      "|613207893973401599|       118|POLYGON ((-122.13...|[{{61320789782377...|0.026909851995814024|0.013219284603421462|5.542296862370928E-5| 1.8389780914079021|0.03295920426865351|\n",
      "|613207898505347071|         2|POLYGON ((-121.98...|[{{61320789844243...|0.001777379113303...|0.006998444790046656|2.952654607112088E-5|-0.9608438895242807|0.16831533346553773|\n",
      "|613207895892295679|        12|POLYGON ((-122.21...|[{{61320789596569...|0.001993322370060298| 0.01088646967340591|4.575034650957284E-5|-1.3147957513643154|0.09428927786372054|\n",
      "+------------------+----------+--------------------+--------------------+--------------------+--------------------+--------------------+-------------------+-------------------+\n",
      "only showing top 4 rows\n",
      "\n"
     ]
    },
    {
     "name": "stderr",
     "output_type": "stream",
     "text": [
      "                                                                                \r"
     ]
    }
   ],
   "source": [
    "gi_df.show(4)"
   ]
  },
  {
   "cell_type": "code",
   "execution_count": 34,
   "id": "282d887e-0f86-4aa6-a3e3-256efa7a5eed",
   "metadata": {
    "execution": {
     "iopub.execute_input": "2025-03-24T16:07:35.748056Z",
     "iopub.status.busy": "2025-03-24T16:07:35.747847Z",
     "iopub.status.idle": "2025-03-24T16:07:36.619522Z",
     "shell.execute_reply": "2025-03-24T16:07:36.618982Z",
     "shell.execute_reply.started": "2025-03-24T16:07:35.748040Z"
    }
   },
   "outputs": [
    {
     "name": "stdout",
     "output_type": "stream",
     "text": [
      "+----------+-------------------+--------------------+--------------------+------------------+--------------------+\n",
      "|num_places|                  G|                  EG|                  VG|                 Z|                   P|\n",
      "+----------+-------------------+--------------------+--------------------+------------------+--------------------+\n",
      "|       250|0.08754007408514809|0.013219284603421462|5.542296862370928E-5|  9.98310001884801|                 0.0|\n",
      "|       908|0.16097739240211956|0.013219284603421462|5.542296862370928E-5|19.847528249317246|                 0.0|\n",
      "|       218|0.11812096144582315|0.013219284603421462|5.542296862370928E-5|14.090861243071908|                 0.0|\n",
      "|       781|0.12757263168385907|0.013219284603421462|5.542296862370928E-5| 15.36045175723997|                 0.0|\n",
      "|       301|0.08998189398847195|0.012441679626749611|5.220389943140836E-5|10.731873012017438|                 0.0|\n",
      "|        13|0.06945067357685088| 0.01088646967340591|4.575034650957284E-5|  8.65834825937443|                 0.0|\n",
      "|       510| 0.1144000930217106| 0.01166407465007776|4.897969206002955E-5|14.679616335353382|                 0.0|\n",
      "|       677|  0.157223301938506|0.013219284603421462|5.542296862370928E-5| 19.34326206970041|                 0.0|\n",
      "|        14|0.11428381588345708| 0.01010886469673406|4.251586278003824E-5|15.976726741393316|                 0.0|\n",
      "|       463|0.14008072955598744|0.013219284603421462|5.542296862370928E-5| 17.04059526720227|                 0.0|\n",
      "|      2006|0.15125994584807562|0.012441679626749611|5.220389943140836E-5|19.212998275784095|                 0.0|\n",
      "|       646|0.10923406587930433| 0.01166407465007776|4.897969206002955E-5| 13.94145947828868|                 0.0|\n",
      "|       871| 0.1397485091609774|0.013219284603421462|5.542296862370928E-5|16.995969941572465|                 0.0|\n",
      "|      1128|0.14220694008405177| 0.01166407465007776|4.897969206002955E-5| 18.65284649202963|                 0.0|\n",
      "|       243|0.09890201159449179|0.013219284603421462|5.542296862370928E-5| 11.50928615538747|                 0.0|\n",
      "|        13|0.09185893922027873| 0.00933125972006221|3.927624087142574E-5|13.168450526995258|                 0.0|\n",
      "|       314|0.13350276573478845|0.013219284603421462|5.542296862370928E-5|16.157013819732054|                 0.0|\n",
      "|       279|0.09185893922027873|0.013219284603421462|5.542296862370928E-5|10.563229252035523|                 0.0|\n",
      "|       264|0.10056311356954203|0.013219284603421462|5.542296862370928E-5|11.732412783536514|                 0.0|\n",
      "|       251|0.07187588246042424|0.013219284603421462|5.542296862370928E-5| 7.879015915402523|1.665334536937734...|\n",
      "+----------+-------------------+--------------------+--------------------+------------------+--------------------+\n",
      "only showing top 20 rows\n",
      "\n"
     ]
    },
    {
     "name": "stderr",
     "output_type": "stream",
     "text": [
      "                                                                                \r"
     ]
    }
   ],
   "source": [
    "gi_df.drop(\"weights\", \"h3Cell\", \"geometry\").orderBy(f.col(\"P\").asc()).show()"
   ]
  },
  {
   "cell_type": "code",
   "execution_count": 35,
   "id": "a711c669-712e-4ff4-9b23-e453aeacf4e4",
   "metadata": {
    "execution": {
     "iopub.execute_input": "2025-03-24T16:10:20.999799Z",
     "iopub.status.busy": "2025-03-24T16:10:20.999576Z",
     "iopub.status.idle": "2025-03-24T16:10:26.028773Z",
     "shell.execute_reply": "2025-03-24T16:10:26.028302Z",
     "shell.execute_reply.started": "2025-03-24T16:10:20.999781Z"
    }
   },
   "outputs": [
    {
     "name": "stdout",
     "output_type": "stream",
     "text": [
      "User Guide: https://docs.kepler.gl/docs/keplergl-jupyter\n"
     ]
    },
    {
     "name": "stderr",
     "output_type": "stream",
     "text": [
      "                                                                                \r"
     ]
    },
    {
     "data": {
      "application/vnd.jupyter.widget-view+json": {
       "model_id": "74c48fa92e36479d959d96ee7a37a36e",
       "version_major": 2,
       "version_minor": 0
      },
      "text/plain": [
       "KeplerGl(data={'places': {'index': [0, 1, 2, 3, 4, 5, 6, 7, 8, 9, 10, 11, 12, 13, 14, 15, 16, 17, 18, 19, 20, …"
      ]
     },
     "execution_count": 35,
     "metadata": {},
     "output_type": "execute_result"
    }
   ],
   "source": [
    "from sedona.maps.SedonaKepler import SedonaKepler\n",
    "\n",
    "kmap = SedonaKepler.create_map(places_df, \"places\")\n",
    "\n",
    "SedonaKepler.add_df(\n",
    "    kmap,\n",
    "    gi_df.drop(\"weights\"),\n",
    "    \"cells\"\n",
    ")\n",
    "\n",
    "kmap"
   ]
  },
  {
   "cell_type": "code",
   "execution_count": 38,
   "id": "68a5541c-b8e2-4579-b979-5b361e6351ae",
   "metadata": {
    "execution": {
     "iopub.execute_input": "2025-03-24T16:23:04.078760Z",
     "iopub.status.busy": "2025-03-24T16:23:04.078418Z",
     "iopub.status.idle": "2025-03-24T16:23:07.555400Z",
     "shell.execute_reply": "2025-03-24T16:23:07.554589Z",
     "shell.execute_reply.started": "2025-03-24T16:23:04.078743Z"
    }
   },
   "outputs": [
    {
     "name": "stderr",
     "output_type": "stream",
     "text": [
      "25/03/24 16:23:07 WARN CacheManager: Asked to cache already cached data.        \n"
     ]
    },
    {
     "name": "stdout",
     "output_type": "stream",
     "text": [
      "+----------+-------------------+--------------------+--------------------+------------------+--------------------+\n",
      "|num_places|                  G|                  EG|                  VG|                 Z|                   P|\n",
      "+----------+-------------------+--------------------+--------------------+------------------+--------------------+\n",
      "|       250|0.08754007408514809|0.013219284603421462|5.542296862370928E-5|  9.98310001884801|                 0.0|\n",
      "|       908|0.16097739240211956|0.013219284603421462|5.542296862370928E-5|19.847528249317246|                 0.0|\n",
      "|       218|0.11812096144582315|0.013219284603421462|5.542296862370928E-5|14.090861243071908|                 0.0|\n",
      "|       781|0.12757263168385907|0.013219284603421462|5.542296862370928E-5| 15.36045175723997|                 0.0|\n",
      "|       301|0.08998189398847195|0.012441679626749611|5.220389943140836E-5|10.731873012017438|                 0.0|\n",
      "|        13|0.06945067357685088| 0.01088646967340591|4.575034650957284E-5|  8.65834825937443|                 0.0|\n",
      "|       510| 0.1144000930217106| 0.01166407465007776|4.897969206002955E-5|14.679616335353382|                 0.0|\n",
      "|       677|  0.157223301938506|0.013219284603421462|5.542296862370928E-5| 19.34326206970041|                 0.0|\n",
      "|        14|0.11428381588345708| 0.01010886469673406|4.251586278003824E-5|15.976726741393316|                 0.0|\n",
      "|       463|0.14008072955598744|0.013219284603421462|5.542296862370928E-5| 17.04059526720227|                 0.0|\n",
      "|      2006|0.15125994584807562|0.012441679626749611|5.220389943140836E-5|19.212998275784095|                 0.0|\n",
      "|       646|0.10923406587930433| 0.01166407465007776|4.897969206002955E-5| 13.94145947828868|                 0.0|\n",
      "|       871| 0.1397485091609774|0.013219284603421462|5.542296862370928E-5|16.995969941572465|                 0.0|\n",
      "|      1128|0.14220694008405177| 0.01166407465007776|4.897969206002955E-5| 18.65284649202963|                 0.0|\n",
      "|       243|0.09890201159449179|0.013219284603421462|5.542296862370928E-5| 11.50928615538747|                 0.0|\n",
      "|       314|0.13350276573478845|0.013219284603421462|5.542296862370928E-5|16.157013819732054|                 0.0|\n",
      "|        13|0.09185893922027873| 0.00933125972006221|3.927624087142574E-5|13.168450526995258|                 0.0|\n",
      "|       279|0.09185893922027873|0.013219284603421462|5.542296862370928E-5|10.563229252035523|                 0.0|\n",
      "|       264|0.10056311356954203|0.013219284603421462|5.542296862370928E-5|11.732412783536514|                 0.0|\n",
      "|       251|0.07187588246042424|0.013219284603421462|5.542296862370928E-5| 7.879015915402523|1.665334536937734...|\n",
      "+----------+-------------------+--------------------+--------------------+------------------+--------------------+\n",
      "only showing top 20 rows\n",
      "\n"
     ]
    }
   ],
   "source": [
    "gi_df = g_local(\n",
    "    add_binary_distance_band_column(\n",
    "        hexes_df,\n",
    "        neighbor_search_radius_degrees,\n",
    "        include_self=True,\n",
    "    ),\n",
    "    \"num_places\",\n",
    "    \"weights\",\n",
    "    star=True\n",
    ").cache()\n",
    "\n",
    "gi_df.drop(\"weights\", \"h3Cell\", \"geometry\").orderBy(f.col(\"P\").asc()).show()"
   ]
  },
  {
   "cell_type": "code",
   "execution_count": 39,
   "id": "6d4f7ee3-612d-4e53-abc9-89af66e9a79d",
   "metadata": {
    "execution": {
     "iopub.execute_input": "2025-03-24T16:23:31.577971Z",
     "iopub.status.busy": "2025-03-24T16:23:31.577711Z",
     "iopub.status.idle": "2025-03-24T16:23:39.134320Z",
     "shell.execute_reply": "2025-03-24T16:23:39.133945Z",
     "shell.execute_reply.started": "2025-03-24T16:23:31.577954Z"
    }
   },
   "outputs": [
    {
     "name": "stdout",
     "output_type": "stream",
     "text": [
      "User Guide: https://docs.kepler.gl/docs/keplergl-jupyter\n"
     ]
    },
    {
     "name": "stderr",
     "output_type": "stream",
     "text": [
      "                                                                                \r"
     ]
    },
    {
     "data": {
      "application/vnd.jupyter.widget-view+json": {
       "model_id": "134e4277818e469388e6fec8f5c5c12b",
       "version_major": 2,
       "version_minor": 0
      },
      "text/plain": [
       "KeplerGl(data={'places': {'index': [0, 1, 2, 3, 4, 5, 6, 7, 8, 9, 10, 11, 12, 13, 14, 15, 16, 17, 18, 19, 20, …"
      ]
     },
     "execution_count": 39,
     "metadata": {},
     "output_type": "execute_result"
    }
   ],
   "source": [
    "from sedona.maps.SedonaKepler import SedonaKepler\n",
    "\n",
    "kmap = SedonaKepler.create_map(places_df, \"places\")\n",
    "\n",
    "SedonaKepler.add_df(\n",
    "    kmap,\n",
    "    gi_df.drop(\"weights\"),\n",
    "    \"cells\"\n",
    ")\n",
    "\n",
    "kmap"
   ]
  },
  {
   "cell_type": "code",
   "execution_count": null,
   "id": "812e207e-1547-4247-a386-6fb10dae0840",
   "metadata": {},
   "outputs": [],
   "source": []
  },
  {
   "cell_type": "code",
   "execution_count": null,
   "id": "a6a4c79a-33af-41b4-9bd5-34edc42dc04d",
   "metadata": {},
   "outputs": [],
   "source": []
  },
  {
   "cell_type": "code",
   "execution_count": null,
   "id": "2300f7ce-e53d-4473-b14a-a6a0122ec3c0",
   "metadata": {},
   "outputs": [],
   "source": []
  },
  {
   "cell_type": "code",
   "execution_count": 11,
   "id": "2f5f3606-296e-4451-9ef6-d21c815bae85",
   "metadata": {
    "execution": {
     "iopub.execute_input": "2025-03-24T15:04:04.860176Z",
     "iopub.status.busy": "2025-03-24T15:04:04.859937Z",
     "iopub.status.idle": "2025-03-24T15:04:04.862953Z",
     "shell.execute_reply": "2025-03-24T15:04:04.862519Z",
     "shell.execute_reply.started": "2025-03-24T15:04:04.860161Z"
    }
   },
   "outputs": [],
   "source": [
    "from pyspark.sql import SparkSession\n",
    "from pyspark.sql import Row"
   ]
  },
  {
   "cell_type": "code",
   "execution_count": 12,
   "id": "dc87be75-ed22-4fb8-ae83-872cf37e16c1",
   "metadata": {
    "execution": {
     "iopub.execute_input": "2025-03-24T15:04:17.868539Z",
     "iopub.status.busy": "2025-03-24T15:04:17.868307Z",
     "iopub.status.idle": "2025-03-24T15:04:17.876749Z",
     "shell.execute_reply": "2025-03-24T15:04:17.876204Z",
     "shell.execute_reply.started": "2025-03-24T15:04:17.868521Z"
    }
   },
   "outputs": [
    {
     "name": "stderr",
     "output_type": "stream",
     "text": [
      "25/03/24 15:04:17 WARN SparkSession: Using an existing Spark session; only runtime SQL configurations will take effect.\n"
     ]
    }
   ],
   "source": [
    "spark = SparkSession.builder \\\n",
    "    .appName(\"Polygon Example\") \\\n",
    "    .getOrCreate()"
   ]
  },
  {
   "cell_type": "code",
   "execution_count": 13,
   "id": "697ec037-3f7d-4838-9423-7e27a53657f4",
   "metadata": {
    "execution": {
     "iopub.execute_input": "2025-03-24T15:04:41.558939Z",
     "iopub.status.busy": "2025-03-24T15:04:41.558732Z",
     "iopub.status.idle": "2025-03-24T15:04:41.562471Z",
     "shell.execute_reply": "2025-03-24T15:04:41.562038Z",
     "shell.execute_reply.started": "2025-03-24T15:04:41.558924Z"
    }
   },
   "outputs": [],
   "source": [
    "# Współrzędne poligonu\n",
    "polygon_coords = [\n",
    "    (-122.380829, 47.870302),\n",
    "    (-122.048492, 47.759637),\n",
    "    (-121.982574, 47.531111),\n",
    "    (-122.408295, 47.50978),\n",
    "    (-122.44812, 47.668162),\n",
    "    (-122.380829, 47.870302)  # Zamknięcie poligonu\n",
    "]\n",
    "\n",
    "\n",
    "data = [Row(lon=coord[0], lat=coord[1]) for coord in polygon_coords]"
   ]
  },
  {
   "cell_type": "code",
   "execution_count": 14,
   "id": "e8afbb09-a6cb-4eb0-8c94-c02be5671d00",
   "metadata": {
    "execution": {
     "iopub.execute_input": "2025-03-24T15:05:00.051968Z",
     "iopub.status.busy": "2025-03-24T15:05:00.051748Z",
     "iopub.status.idle": "2025-03-24T15:05:00.055626Z",
     "shell.execute_reply": "2025-03-24T15:05:00.055090Z",
     "shell.execute_reply.started": "2025-03-24T15:05:00.051953Z"
    }
   },
   "outputs": [],
   "source": [
    "\n",
    "polygon_coords = [\n",
    "    (-122.380829, 47.870302),\n",
    "    (-122.048492, 47.759637),\n",
    "    (-121.982574, 47.531111),\n",
    "    (-122.408295, 47.50978),\n",
    "    (-122.44812, 47.668162),\n",
    "    (-122.380829, 47.870302)  # Zamknięcie poligonu\n",
    "]\n",
    "\n",
    "\n",
    "data = [Row(lon=coord[0], lat=coord[1]) for coord in polygon_coords]"
   ]
  },
  {
   "cell_type": "code",
   "execution_count": 16,
   "id": "645cc094-ab2e-42eb-8f7d-6cab484be8f2",
   "metadata": {
    "execution": {
     "iopub.execute_input": "2025-03-24T15:06:08.129302Z",
     "iopub.status.busy": "2025-03-24T15:06:08.128581Z",
     "iopub.status.idle": "2025-03-24T15:06:11.334994Z",
     "shell.execute_reply": "2025-03-24T15:06:11.334325Z",
     "shell.execute_reply.started": "2025-03-24T15:06:08.129270Z"
    }
   },
   "outputs": [
    {
     "name": "stderr",
     "output_type": "stream",
     "text": [
      "                                                                                \r"
     ]
    },
    {
     "name": "stdout",
     "output_type": "stream",
     "text": [
      "+-----------+---------+\n",
      "|        lon|      lat|\n",
      "+-----------+---------+\n",
      "|-122.380829|47.870302|\n",
      "|-122.048492|47.759637|\n",
      "|-121.982574|47.531111|\n",
      "|-122.408295| 47.50978|\n",
      "| -122.44812|47.668162|\n",
      "|-122.380829|47.870302|\n",
      "+-----------+---------+\n",
      "\n"
     ]
    }
   ],
   "source": [
    "\n",
    "polygon_df = spark.createDataFrame(data)\n",
    "\n",
    "e\n",
    "polygon_df.show()"
   ]
  },
  {
   "cell_type": "code",
   "execution_count": 17,
   "id": "283fd905-94e7-402f-b7c1-4754c7f98bb9",
   "metadata": {
    "execution": {
     "iopub.execute_input": "2025-03-24T15:06:28.452334Z",
     "iopub.status.busy": "2025-03-24T15:06:28.452119Z",
     "iopub.status.idle": "2025-03-24T15:06:28.478797Z",
     "shell.execute_reply": "2025-03-24T15:06:28.478294Z",
     "shell.execute_reply.started": "2025-03-24T15:06:28.452318Z"
    }
   },
   "outputs": [],
   "source": [
    "\n",
    "polygon_df.createOrReplaceTempView(\"polygon_table\")"
   ]
  },
  {
   "cell_type": "code",
   "execution_count": 18,
   "id": "5059c971-8113-4a60-aec0-1bed3267e0a6",
   "metadata": {
    "execution": {
     "iopub.execute_input": "2025-03-24T15:07:46.060168Z",
     "iopub.status.busy": "2025-03-24T15:07:46.059948Z",
     "iopub.status.idle": "2025-03-24T15:07:46.694169Z",
     "shell.execute_reply": "2025-03-24T15:07:46.693741Z",
     "shell.execute_reply.started": "2025-03-24T15:07:46.060153Z"
    }
   },
   "outputs": [
    {
     "name": "stdout",
     "output_type": "stream",
     "text": [
      "User Guide: https://docs.kepler.gl/docs/keplergl-jupyter\n"
     ]
    },
    {
     "data": {
      "application/vnd.jupyter.widget-view+json": {
       "model_id": "cc9fb01e49e84c0bb156b3ededca9311",
       "version_major": 2,
       "version_minor": 0
      },
      "text/plain": [
       "KeplerGl(data={'Hiking Trails': {'index': [0, 1, 2, 3, 4, 5], 'columns': ['lon', 'lat'], 'data': [[-122.380829…"
      ]
     },
     "execution_count": 18,
     "metadata": {},
     "output_type": "execute_result"
    }
   ],
   "source": [
    "SedonaKepler.create_map(polygon_df, \"Hiking Trails\")"
   ]
  },
  {
   "cell_type": "code",
   "execution_count": null,
   "id": "e7d4db4a-6a73-410f-b1e0-0ee4e617b0a0",
   "metadata": {},
   "outputs": [],
   "source": []
  }
 ],
 "metadata": {
  "kernelspec": {
   "display_name": "Python 3 (ipykernel)",
   "language": "python",
   "name": "python3"
  },
  "language_info": {
   "codemirror_mode": {
    "name": "ipython",
    "version": 3
   },
   "file_extension": ".py",
   "mimetype": "text/x-python",
   "name": "python",
   "nbconvert_exporter": "python",
   "pygments_lexer": "ipython3",
   "version": "3.11.11"
  }
 },
 "nbformat": 4,
 "nbformat_minor": 5
}
